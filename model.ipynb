{
 "cells": [
  {
   "cell_type": "code",
   "execution_count": 175,
   "id": "1f060da1",
   "metadata": {},
   "outputs": [
    {
     "name": "stdout",
     "output_type": "stream",
     "text": [
      "Requirement already satisfied: scikit-image in c:\\users\\arjun\\appdata\\local\\programs\\python\\python38\\lib\\site-packages (0.19.1)\n",
      "Requirement already satisfied: pillow!=7.1.0,!=7.1.1,!=8.3.0,>=6.1.0 in c:\\users\\arjun\\appdata\\local\\programs\\python\\python38\\lib\\site-packages (from scikit-image) (8.3.2)\n",
      "Requirement already satisfied: numpy>=1.17.0 in c:\\users\\arjun\\appdata\\local\\programs\\python\\python38\\lib\\site-packages (from scikit-image) (1.20.3)\n",
      "Requirement already satisfied: packaging>=20.0 in c:\\users\\arjun\\appdata\\local\\programs\\python\\python38\\lib\\site-packages (from scikit-image) (21.3)\n",
      "Requirement already satisfied: imageio>=2.4.1 in c:\\users\\arjun\\appdata\\local\\programs\\python\\python38\\lib\\site-packages (from scikit-image) (2.13.3)\n",
      "Requirement already satisfied: scipy>=1.4.1 in c:\\users\\arjun\\appdata\\local\\programs\\python\\python38\\lib\\site-packages (from scikit-image) (1.7.1)\n",
      "Requirement already satisfied: tifffile>=2019.7.26 in c:\\users\\arjun\\appdata\\local\\programs\\python\\python38\\lib\\site-packages (from scikit-image) (2021.11.2)\n",
      "Requirement already satisfied: PyWavelets>=1.1.1 in c:\\users\\arjun\\appdata\\local\\programs\\python\\python38\\lib\\site-packages (from scikit-image) (1.2.0)\n",
      "Requirement already satisfied: networkx>=2.2 in c:\\users\\arjun\\appdata\\local\\programs\\python\\python38\\lib\\site-packages (from scikit-image) (2.6.3)\n",
      "Requirement already satisfied: pyparsing!=3.0.5,>=2.0.2 in c:\\users\\arjun\\appdata\\local\\programs\\python\\python38\\lib\\site-packages (from packaging>=20.0->scikit-image) (2.4.7)\n"
     ]
    }
   ],
   "source": [
    "!pip install scikit-image"
   ]
  },
  {
   "cell_type": "code",
   "execution_count": 176,
   "id": "a4d05b82",
   "metadata": {},
   "outputs": [],
   "source": [
    "import numpy as np\n",
    "import os\n",
    "import glob\n",
    "import pandas as pd\n",
    "from sklearn.preprocessing import LabelEncoder\n",
    "from tensorflow.keras.utils import to_categorical\n",
    "import matplotlib.pyplot as plt\n",
    "import warnings\n",
    "import pickle \n",
    "from skimage.io import imread, imshow\n",
    "from PIL import Image\n",
    "\n",
    "from sklearn.model_selection import train_test_split\n",
    "from sklearn.ensemble import RandomForestClassifier\n",
    "# from sklearn.model_selection import cross_val_score\n",
    "# from sklearn.model_selection import RandomizedSearchCV\n",
    "from sklearn.preprocessing import StandardScaler    "
   ]
  },
  {
   "cell_type": "code",
   "execution_count": 177,
   "id": "06a73e31",
   "metadata": {},
   "outputs": [],
   "source": [
    "warnings.filterwarnings(\"ignore\")"
   ]
  },
  {
   "cell_type": "markdown",
   "id": "6ba8a377",
   "metadata": {},
   "source": [
    "# DATA EXPLORATION AND VISUALIZATION"
   ]
  },
  {
   "cell_type": "code",
   "execution_count": 178,
   "id": "5e4b54bc",
   "metadata": {},
   "outputs": [],
   "source": [
    "imageDataSetPath = \"./dataFinalExam\"\n",
    "subDir = [x[1] for x in os.walk(imageDataSetPath)][0]"
   ]
  },
  {
   "cell_type": "code",
   "execution_count": 179,
   "id": "bbd6f363",
   "metadata": {},
   "outputs": [
    {
     "data": {
      "text/plain": [
       "Text(0.5, 1.0, 'Class Distribution Plot')"
      ]
     },
     "execution_count": 179,
     "metadata": {},
     "output_type": "execute_result"
    },
    {
     "data": {
      "image/png": "[encoded data removed]",
      "text/plain": [
       "<Figure size 576x360 with 1 Axes>"
      ]
     },
     "metadata": {
      "needs_background": "light"
     },
     "output_type": "display_data"
    }
   ],
   "source": [
    "classes = []\n",
    "samples = []\n",
    "\n",
    "for directory in subDir:\n",
    "    imagePath = os.path.join(os.path.abspath(imageDataSetPath),str(directory))\n",
    "    imageFiles = os.listdir(imagePath) \n",
    "    numberOfFiles = len(imageFiles)\n",
    "    classes.append(directory)\n",
    "    samples.append(numberOfFiles)\n",
    "    \n",
    "fig = plt.figure(figsize = (8, 5))\n",
    "plt.bar(classes, samples) \n",
    "plt.ylabel(\"No. of samples\")\n",
    "plt.xlabel(\"Class names\")\n",
    "plt.title(\"Class Distribution Plot\")   \n",
    "\n"
   ]
  },
  {
   "cell_type": "markdown",
   "id": "ad8be5d6",
   "metadata": {},
   "source": [
    "# Feature Extraction "
   ]
  },
  {
   "cell_type": "code",
   "execution_count": 180,
   "id": "5108de4a",
   "metadata": {},
   "outputs": [],
   "source": [
    "features = []\n",
    "for directory in subDir:\n",
    "    imagePath = os.path.join(os.path.abspath(imageDataSetPath), str(directory) + '/')\n",
    "#     print(\"here\")\n",
    "    # Reading all audio .wav files present in a folder\n",
    "    for file in glob.glob(imagePath + \"*.jpg\"):\n",
    "        image = Image.open(file)\n",
    "        new_image = image.resize((400, 400))\n",
    "        new_image.save(file)\n",
    "        image = imread(file, as_gray=True)\n",
    "        featuresTemp = np.reshape(image, (400*400))\n",
    "#         print(type(featuresTemp))\n",
    "        featuresTemp = featuresTemp.tolist()\n",
    "        featuresTemp.append(directory)\n",
    "#         temp.append(directory)\n",
    "        features.append(featuresTemp)"
   ]
  },
  {
   "cell_type": "code",
   "execution_count": 181,
   "id": "04bcd1e6",
   "metadata": {},
   "outputs": [],
   "source": [
    "df = pd.DataFrame(features)\n"
   ]
  },
  {
   "cell_type": "code",
   "execution_count": 182,
   "id": "647e0f9b",
   "metadata": {},
   "outputs": [
    {
     "data": {
      "text/html": [
       "<div>\n",
       "<style scoped>\n",
       "    .dataframe tbody tr th:only-of-type {\n",
       "        vertical-align: middle;\n",
       "    }\n",
       "\n",
       "    .dataframe tbody tr th {\n",
       "        vertical-align: top;\n",
       "    }\n",
       "\n",
       "    .dataframe thead th {\n",
       "        text-align: right;\n",
       "    }\n",
       "</style>\n",
       "<table border=\"1\" class=\"dataframe\">\n",
       "  <thead>\n",
       "    <tr style=\"text-align: right;\">\n",
       "      <th></th>\n",
       "      <th>0</th>\n",
       "      <th>1</th>\n",
       "      <th>2</th>\n",
       "      <th>3</th>\n",
       "      <th>4</th>\n",
       "      <th>5</th>\n",
       "      <th>6</th>\n",
       "      <th>7</th>\n",
       "      <th>8</th>\n",
       "      <th>9</th>\n",
       "      <th>...</th>\n",
       "      <th>159991</th>\n",
       "      <th>159992</th>\n",
       "      <th>159993</th>\n",
       "      <th>159994</th>\n",
       "      <th>159995</th>\n",
       "      <th>159996</th>\n",
       "      <th>159997</th>\n",
       "      <th>159998</th>\n",
       "      <th>159999</th>\n",
       "      <th>160000</th>\n",
       "    </tr>\n",
       "  </thead>\n",
       "  <tbody>\n",
       "    <tr>\n",
       "      <th>0</th>\n",
       "      <td>0.478115</td>\n",
       "      <td>0.478115</td>\n",
       "      <td>0.478115</td>\n",
       "      <td>0.478115</td>\n",
       "      <td>0.478115</td>\n",
       "      <td>0.478115</td>\n",
       "      <td>0.478115</td>\n",
       "      <td>0.478115</td>\n",
       "      <td>0.478115</td>\n",
       "      <td>0.478115</td>\n",
       "      <td>...</td>\n",
       "      <td>0.153497</td>\n",
       "      <td>0.149575</td>\n",
       "      <td>0.149575</td>\n",
       "      <td>0.153497</td>\n",
       "      <td>0.153497</td>\n",
       "      <td>0.153497</td>\n",
       "      <td>0.149575</td>\n",
       "      <td>0.145654</td>\n",
       "      <td>0.141732</td>\n",
       "      <td>bottle</td>\n",
       "    </tr>\n",
       "    <tr>\n",
       "      <th>1</th>\n",
       "      <td>0.465071</td>\n",
       "      <td>0.465071</td>\n",
       "      <td>0.465071</td>\n",
       "      <td>0.465071</td>\n",
       "      <td>0.465071</td>\n",
       "      <td>0.465071</td>\n",
       "      <td>0.465071</td>\n",
       "      <td>0.465071</td>\n",
       "      <td>0.457228</td>\n",
       "      <td>0.461149</td>\n",
       "      <td>...</td>\n",
       "      <td>0.835796</td>\n",
       "      <td>0.841667</td>\n",
       "      <td>0.837745</td>\n",
       "      <td>0.837745</td>\n",
       "      <td>0.837745</td>\n",
       "      <td>0.835773</td>\n",
       "      <td>0.835773</td>\n",
       "      <td>0.835773</td>\n",
       "      <td>0.835773</td>\n",
       "      <td>bottle</td>\n",
       "    </tr>\n",
       "    <tr>\n",
       "      <th>2</th>\n",
       "      <td>0.501721</td>\n",
       "      <td>0.497800</td>\n",
       "      <td>0.491638</td>\n",
       "      <td>0.487716</td>\n",
       "      <td>0.483795</td>\n",
       "      <td>0.487716</td>\n",
       "      <td>0.492204</td>\n",
       "      <td>0.496125</td>\n",
       "      <td>0.496125</td>\n",
       "      <td>0.496125</td>\n",
       "      <td>...</td>\n",
       "      <td>0.299749</td>\n",
       "      <td>0.327200</td>\n",
       "      <td>0.315435</td>\n",
       "      <td>0.307592</td>\n",
       "      <td>0.303670</td>\n",
       "      <td>0.315435</td>\n",
       "      <td>0.323278</td>\n",
       "      <td>0.327200</td>\n",
       "      <td>0.331121</td>\n",
       "      <td>bottle</td>\n",
       "    </tr>\n",
       "    <tr>\n",
       "      <th>3</th>\n",
       "      <td>0.483379</td>\n",
       "      <td>0.483379</td>\n",
       "      <td>0.483379</td>\n",
       "      <td>0.487301</td>\n",
       "      <td>0.487301</td>\n",
       "      <td>0.491222</td>\n",
       "      <td>0.491222</td>\n",
       "      <td>0.491222</td>\n",
       "      <td>0.479458</td>\n",
       "      <td>0.483379</td>\n",
       "      <td>...</td>\n",
       "      <td>0.368960</td>\n",
       "      <td>0.376803</td>\n",
       "      <td>0.372882</td>\n",
       "      <td>0.396411</td>\n",
       "      <td>0.400333</td>\n",
       "      <td>0.376803</td>\n",
       "      <td>0.392489</td>\n",
       "      <td>0.400333</td>\n",
       "      <td>0.361117</td>\n",
       "      <td>bottle</td>\n",
       "    </tr>\n",
       "    <tr>\n",
       "      <th>4</th>\n",
       "      <td>0.473526</td>\n",
       "      <td>0.473526</td>\n",
       "      <td>0.473526</td>\n",
       "      <td>0.477448</td>\n",
       "      <td>0.477448</td>\n",
       "      <td>0.481369</td>\n",
       "      <td>0.481369</td>\n",
       "      <td>0.481369</td>\n",
       "      <td>0.481369</td>\n",
       "      <td>0.481369</td>\n",
       "      <td>...</td>\n",
       "      <td>0.333368</td>\n",
       "      <td>0.365306</td>\n",
       "      <td>0.333934</td>\n",
       "      <td>0.300321</td>\n",
       "      <td>0.300321</td>\n",
       "      <td>0.323851</td>\n",
       "      <td>0.343458</td>\n",
       "      <td>0.335615</td>\n",
       "      <td>0.323851</td>\n",
       "      <td>bottle</td>\n",
       "    </tr>\n",
       "  </tbody>\n",
       "</table>\n",
       "<p>5 rows × 160001 columns</p>\n",
       "</div>"
      ],
      "text/plain": [
       "     0         1         2         3         4         5         6       \\\n",
       "0  0.478115  0.478115  0.478115  0.478115  0.478115  0.478115  0.478115   \n",
       "1  0.465071  0.465071  0.465071  0.465071  0.465071  0.465071  0.465071   \n",
       "2  0.501721  0.497800  0.491638  0.487716  0.483795  0.487716  0.492204   \n",
       "3  0.483379  0.483379  0.483379  0.487301  0.487301  0.491222  0.491222   \n",
       "4  0.473526  0.473526  0.473526  0.477448  0.477448  0.481369  0.481369   \n",
       "\n",
       "     7         8         9       ...    159991    159992    159993    159994  \\\n",
       "0  0.478115  0.478115  0.478115  ...  0.153497  0.149575  0.149575  0.153497   \n",
       "1  0.465071  0.457228  0.461149  ...  0.835796  0.841667  0.837745  0.837745   \n",
       "2  0.496125  0.496125  0.496125  ...  0.299749  0.327200  0.315435  0.307592   \n",
       "3  0.491222  0.479458  0.483379  ...  0.368960  0.376803  0.372882  0.396411   \n",
       "4  0.481369  0.481369  0.481369  ...  0.333368  0.365306  0.333934  0.300321   \n",
       "\n",
       "     159995    159996    159997    159998    159999  160000  \n",
       "0  0.153497  0.153497  0.149575  0.145654  0.141732  bottle  \n",
       "1  0.837745  0.835773  0.835773  0.835773  0.835773  bottle  \n",
       "2  0.303670  0.315435  0.323278  0.327200  0.331121  bottle  \n",
       "3  0.400333  0.376803  0.392489  0.400333  0.361117  bottle  \n",
       "4  0.300321  0.323851  0.343458  0.335615  0.323851  bottle  \n",
       "\n",
       "[5 rows x 160001 columns]"
      ]
     },
     "execution_count": 182,
     "metadata": {},
     "output_type": "execute_result"
    }
   ],
   "source": [
    "df.head()"
   ]
  },
  {
   "cell_type": "code",
   "execution_count": 183,
   "id": "1569fd04",
   "metadata": {},
   "outputs": [],
   "source": [
    "X = df.iloc[:,:160000]\n",
    "# print(X)\n",
    "y = df[160000]\n",
    "# print(y)"
   ]
  },
  {
   "cell_type": "markdown",
   "id": "4ff9bd75",
   "metadata": {},
   "source": [
    "# Categorical Encoding"
   ]
  },
  {
   "cell_type": "code",
   "execution_count": 184,
   "id": "ad0f8899",
   "metadata": {},
   "outputs": [],
   "source": [
    "labelEnc = LabelEncoder()\n",
    "yNew = labelEnc.fit_transform(y)\n"
   ]
  },
  {
   "cell_type": "code",
   "execution_count": 185,
   "id": "0aba141a",
   "metadata": {},
   "outputs": [],
   "source": [
    "xTrain,xTest,yTrain,yTest=train_test_split(X, yNew ,test_size=0.3,random_state=0)"
   ]
  },
  {
   "cell_type": "code",
   "execution_count": 186,
   "id": "83da89df",
   "metadata": {},
   "outputs": [],
   "source": [
    "yTrainCategorical = to_categorical(yTrain)\n",
    "yTestCategorical = to_categorical(yTest)"
   ]
  },
  {
   "cell_type": "code",
   "execution_count": 187,
   "id": "f9284890",
   "metadata": {},
   "outputs": [
    {
     "name": "stdout",
     "output_type": "stream",
     "text": [
      "(29, 160000)\n",
      "(13, 160000)\n",
      "(29,)\n",
      "(13,)\n"
     ]
    }
   ],
   "source": [
    "print(XTrain.shape)\n",
    "print(XTest.shape)\n",
    "print(yTrain.shape)\n",
    "print(yTest.shape)"
   ]
  },
  {
   "cell_type": "markdown",
   "id": "aef3783e",
   "metadata": {},
   "source": [
    "# Building Classifier Model"
   ]
  },
  {
   "cell_type": "markdown",
   "id": "3503d3fe",
   "metadata": {},
   "source": [
    "# Random Classifier"
   ]
  },
  {
   "cell_type": "code",
   "execution_count": 188,
   "id": "b7993a36",
   "metadata": {},
   "outputs": [],
   "source": [
    "criterion=['gini','entropy']\n",
    "nEstimators = [int(x) for x in np.linspace(200, 1000, 5)]\n",
    "maxDepth = [int(x) for x in np.linspace(5, 55, 11)]\n",
    "\n",
    "hyperParameters = dict(criterion = criterion, n_estimators= nEstimators, max_depth= maxDepth)"
   ]
  },
  {
   "cell_type": "code",
   "execution_count": 189,
   "id": "f4d4489d",
   "metadata": {},
   "outputs": [],
   "source": [
    "# 5 fold CV\n",
    "rfRandom = RandomizedSearchCV(estimator = RandomForestClassifier(), param_distributions = hyper_parameters, \n",
    "                               n_iter = 200, cv = 5, verbose = 2, random_state = 42, scoring=\"accuracy\",\n",
    "                               n_jobs = -1)"
   ]
  },
  {
   "cell_type": "code",
   "execution_count": 190,
   "id": "dc1d0304",
   "metadata": {},
   "outputs": [
    {
     "name": "stdout",
     "output_type": "stream",
     "text": [
      "Fitting 5 folds for each of 110 candidates, totalling 550 fits\n"
     ]
    },
    {
     "data": {
      "text/plain": [
       "{'n_estimators': 200, 'max_depth': 10, 'criterion': 'gini'}"
      ]
     },
     "execution_count": 190,
     "metadata": {},
     "output_type": "execute_result"
    }
   ],
   "source": [
    "search = rfRandom.fit(XTrain,yTrain)\n",
    "search.best_params_"
   ]
  },
  {
   "cell_type": "code",
   "execution_count": 191,
   "id": "7d4d1373",
   "metadata": {},
   "outputs": [],
   "source": [
    "classifier = search.best_estimator_"
   ]
  },
  {
   "cell_type": "code",
   "execution_count": 192,
   "id": "f43fb592",
   "metadata": {},
   "outputs": [
    {
     "name": "stdout",
     "output_type": "stream",
     "text": [
      "Cross validation accuracy on Train set: 82.00%\n"
     ]
    }
   ],
   "source": [
    "scores = cross_val_score(classifier, XTrain, yTrain, cv=5)\n",
    "meanAcc = np.mean(scores)*100\n",
    "print(\"Cross validation accuracy on Train set: {:.2f}%\".format(meanAcc))"
   ]
  },
  {
   "cell_type": "code",
   "execution_count": 193,
   "id": "97758252",
   "metadata": {},
   "outputs": [],
   "source": [
    "# stX= StandardScaler()    \n",
    "# xTrain= stX.fit_transform(xTrain)    \n",
    "# xTest= stX.transform(xTest)    "
   ]
  },
  {
   "cell_type": "code",
   "execution_count": 194,
   "id": "804c3de1",
   "metadata": {},
   "outputs": [],
   "source": [
    "# classifier= RandomForestClassifier(n_estimators= 10, criterion=\"entropy\")  \n",
    "# classifier.fit(xTrain, yTrain)  "
   ]
  },
  {
   "cell_type": "code",
   "execution_count": 195,
   "id": "381493b1",
   "metadata": {},
   "outputs": [],
   "source": [
    "# accuracy = classifier.score(XTrain, yTrain)\n",
    "# print(\"Accuracy on Train set: {:.2f}%\".format(accuracy * 100))"
   ]
  },
  {
   "cell_type": "code",
   "execution_count": 196,
   "id": "1ebe88aa",
   "metadata": {},
   "outputs": [
    {
     "name": "stdout",
     "output_type": "stream",
     "text": [
      "Accuracy on Test set: 84.62%\n"
     ]
    }
   ],
   "source": [
    "accuracy = classifier.score(XTest, yTest)\n",
    "print(\"Accuracy on Test set: {:.2f}%\".format(accuracy * 100))\n",
    "\n",
    "\n",
    "# bestModel.predict()"
   ]
  },
  {
   "cell_type": "code",
   "execution_count": 197,
   "id": "3d155cfc",
   "metadata": {},
   "outputs": [],
   "source": [
    "with open('final_model.pkl', 'wb') as fp:\n",
    "    pickle.dump(classifier, fp)"
   ]
  },
  {
   "cell_type": "code",
   "execution_count": null,
   "id": "c0d7c4f2",
   "metadata": {},
   "outputs": [],
   "source": []
  }
 ],
 "metadata": {
  "kernelspec": {
   "display_name": "Python 3 (ipykernel)",
   "language": "python",
   "name": "python3"
  },
  "language_info": {
   "codemirror_mode": {
    "name": "ipython",
    "version": 3
   },
   "file_extension": ".py",
   "mimetype": "text/x-python",
   "name": "python",
   "nbconvert_exporter": "python",
   "pygments_lexer": "ipython3",
   "version": "3.8.0"
  }
 },
 "nbformat": 4,
 "nbformat_minor": 5
}
